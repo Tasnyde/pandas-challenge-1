{
 "cells": [
  {
   "cell_type": "markdown",
   "id": "dc0318d6",
   "metadata": {},
   "source": [
    "## Part 1: Explore the Data\n",
    "\n",
    "Import the data and use Pandas to learn more about the dataset."
   ]
  },
  {
   "cell_type": "code",
   "execution_count": 510,
   "id": "e076f57f",
   "metadata": {},
   "outputs": [
    {
     "data": {
      "text/html": [
       "<div>\n",
       "<style scoped>\n",
       "    .dataframe tbody tr th:only-of-type {\n",
       "        vertical-align: middle;\n",
       "    }\n",
       "\n",
       "    .dataframe tbody tr th {\n",
       "        vertical-align: top;\n",
       "    }\n",
       "\n",
       "    .dataframe thead th {\n",
       "        text-align: right;\n",
       "    }\n",
       "</style>\n",
       "<table border=\"1\" class=\"dataframe\">\n",
       "  <thead>\n",
       "    <tr style=\"text-align: right;\">\n",
       "      <th></th>\n",
       "      <th>first</th>\n",
       "      <th>last</th>\n",
       "      <th>job</th>\n",
       "      <th>phone</th>\n",
       "      <th>email</th>\n",
       "      <th>client_id</th>\n",
       "      <th>order_id</th>\n",
       "      <th>order_date</th>\n",
       "      <th>order_week</th>\n",
       "      <th>order_year</th>\n",
       "      <th>item_id</th>\n",
       "      <th>category</th>\n",
       "      <th>subcategory</th>\n",
       "      <th>unit_price</th>\n",
       "      <th>unit_cost</th>\n",
       "      <th>unit_weight</th>\n",
       "      <th>qty</th>\n",
       "      <th>line_number</th>\n",
       "    </tr>\n",
       "  </thead>\n",
       "  <tbody>\n",
       "    <tr>\n",
       "      <th>0</th>\n",
       "      <td>Donald</td>\n",
       "      <td>Harding</td>\n",
       "      <td>Immunologist</td>\n",
       "      <td>793-904-7725x39308</td>\n",
       "      <td>harding.donald.7185@sullivan.com</td>\n",
       "      <td>58515</td>\n",
       "      <td>8953482</td>\n",
       "      <td>2023-04-28</td>\n",
       "      <td>17</td>\n",
       "      <td>2023</td>\n",
       "      <td>EUD29711-63-6U</td>\n",
       "      <td>decor</td>\n",
       "      <td>wall art</td>\n",
       "      <td>1096.80</td>\n",
       "      <td>762.71</td>\n",
       "      <td>7.50</td>\n",
       "      <td>105</td>\n",
       "      <td>1</td>\n",
       "    </tr>\n",
       "    <tr>\n",
       "      <th>1</th>\n",
       "      <td>Tiffany</td>\n",
       "      <td>Myers</td>\n",
       "      <td>Music therapist</td>\n",
       "      <td>201.442.4543x942</td>\n",
       "      <td>myers.t.6537@ferguson-johnson.net</td>\n",
       "      <td>37609</td>\n",
       "      <td>8069089</td>\n",
       "      <td>2023-05-19</td>\n",
       "      <td>20</td>\n",
       "      <td>2023</td>\n",
       "      <td>XDA18116-89-4A</td>\n",
       "      <td>consumables</td>\n",
       "      <td>pens</td>\n",
       "      <td>24.95</td>\n",
       "      <td>15.09</td>\n",
       "      <td>1.49</td>\n",
       "      <td>21</td>\n",
       "      <td>0</td>\n",
       "    </tr>\n",
       "    <tr>\n",
       "      <th>2</th>\n",
       "      <td>Shannon</td>\n",
       "      <td>Watson</td>\n",
       "      <td>Immunologist</td>\n",
       "      <td>687.737.9424x8503</td>\n",
       "      <td>swatson8146@payne.net</td>\n",
       "      <td>57113</td>\n",
       "      <td>1902144</td>\n",
       "      <td>2023-01-29</td>\n",
       "      <td>4</td>\n",
       "      <td>2023</td>\n",
       "      <td>ABE59463-05-7E</td>\n",
       "      <td>software</td>\n",
       "      <td>project management</td>\n",
       "      <td>13.52</td>\n",
       "      <td>7.86</td>\n",
       "      <td>1.68</td>\n",
       "      <td>39</td>\n",
       "      <td>6</td>\n",
       "    </tr>\n",
       "    <tr>\n",
       "      <th>3</th>\n",
       "      <td>Nathan</td>\n",
       "      <td>Baker</td>\n",
       "      <td>Accounting technician</td>\n",
       "      <td>827-788-8123x012</td>\n",
       "      <td>bakernathan@benson.com</td>\n",
       "      <td>46554</td>\n",
       "      <td>9031802</td>\n",
       "      <td>2023-04-25</td>\n",
       "      <td>17</td>\n",
       "      <td>2023</td>\n",
       "      <td>ZMM00836-65-0C</td>\n",
       "      <td>consumables</td>\n",
       "      <td>pens</td>\n",
       "      <td>36.42</td>\n",
       "      <td>24.85</td>\n",
       "      <td>1.23</td>\n",
       "      <td>29</td>\n",
       "      <td>3</td>\n",
       "    </tr>\n",
       "    <tr>\n",
       "      <th>4</th>\n",
       "      <td>Christina</td>\n",
       "      <td>Schwartz</td>\n",
       "      <td>Chiropractor</td>\n",
       "      <td>265-829-3643</td>\n",
       "      <td>christinaschwartz9252@mcconnell.com</td>\n",
       "      <td>92089</td>\n",
       "      <td>1322274</td>\n",
       "      <td>2023-05-28</td>\n",
       "      <td>21</td>\n",
       "      <td>2023</td>\n",
       "      <td>BZX55559-12-3X</td>\n",
       "      <td>consumables</td>\n",
       "      <td>misc</td>\n",
       "      <td>195.10</td>\n",
       "      <td>108.17</td>\n",
       "      <td>46.43</td>\n",
       "      <td>20</td>\n",
       "      <td>1</td>\n",
       "    </tr>\n",
       "  </tbody>\n",
       "</table>\n",
       "</div>"
      ],
      "text/plain": [
       "       first      last                    job               phone  \\\n",
       "0     Donald   Harding           Immunologist  793-904-7725x39308   \n",
       "1    Tiffany     Myers        Music therapist    201.442.4543x942   \n",
       "2    Shannon    Watson           Immunologist   687.737.9424x8503   \n",
       "3     Nathan     Baker  Accounting technician    827-788-8123x012   \n",
       "4  Christina  Schwartz           Chiropractor        265-829-3643   \n",
       "\n",
       "                                 email  client_id  order_id  order_date  \\\n",
       "0     harding.donald.7185@sullivan.com      58515   8953482  2023-04-28   \n",
       "1    myers.t.6537@ferguson-johnson.net      37609   8069089  2023-05-19   \n",
       "2                swatson8146@payne.net      57113   1902144  2023-01-29   \n",
       "3               bakernathan@benson.com      46554   9031802  2023-04-25   \n",
       "4  christinaschwartz9252@mcconnell.com      92089   1322274  2023-05-28   \n",
       "\n",
       "   order_week  order_year         item_id     category         subcategory  \\\n",
       "0          17        2023  EUD29711-63-6U        decor            wall art   \n",
       "1          20        2023  XDA18116-89-4A  consumables                pens   \n",
       "2           4        2023  ABE59463-05-7E     software  project management   \n",
       "3          17        2023  ZMM00836-65-0C  consumables                pens   \n",
       "4          21        2023  BZX55559-12-3X  consumables                misc   \n",
       "\n",
       "   unit_price  unit_cost  unit_weight  qty  line_number  \n",
       "0     1096.80     762.71         7.50  105            1  \n",
       "1       24.95      15.09         1.49   21            0  \n",
       "2       13.52       7.86         1.68   39            6  \n",
       "3       36.42      24.85         1.23   29            3  \n",
       "4      195.10     108.17        46.43   20            1  "
      ]
     },
     "execution_count": 510,
     "metadata": {},
     "output_type": "execute_result"
    }
   ],
   "source": [
    "import pandas as pd\n",
    "\n",
    "df = pd.read_csv('Resources/client_dataset.csv')\n",
    "\n",
    "df.head()"
   ]
  },
  {
   "cell_type": "code",
   "execution_count": 511,
   "id": "71b9bbd2",
   "metadata": {},
   "outputs": [
    {
     "name": "stdout",
     "output_type": "stream",
     "text": [
      "Index(['first', 'last', 'job', 'phone', 'email', 'client_id', 'order_id',\n",
      "       'order_date', 'order_week', 'order_year', 'item_id', 'category',\n",
      "       'subcategory', 'unit_price', 'unit_cost', 'unit_weight', 'qty',\n",
      "       'line_number'],\n",
      "      dtype='object')\n"
     ]
    }
   ],
   "source": [
    "# View the column names in the data\n",
    "column_names = df.columns\n",
    "print(column_names)\n"
   ]
  },
  {
   "cell_type": "code",
   "execution_count": 512,
   "id": "bc0f4172",
   "metadata": {},
   "outputs": [
    {
     "data": {
      "text/html": [
       "<div>\n",
       "<style scoped>\n",
       "    .dataframe tbody tr th:only-of-type {\n",
       "        vertical-align: middle;\n",
       "    }\n",
       "\n",
       "    .dataframe tbody tr th {\n",
       "        vertical-align: top;\n",
       "    }\n",
       "\n",
       "    .dataframe thead th {\n",
       "        text-align: right;\n",
       "    }\n",
       "</style>\n",
       "<table border=\"1\" class=\"dataframe\">\n",
       "  <thead>\n",
       "    <tr style=\"text-align: right;\">\n",
       "      <th></th>\n",
       "      <th>client_id</th>\n",
       "      <th>order_id</th>\n",
       "      <th>order_week</th>\n",
       "      <th>order_year</th>\n",
       "      <th>unit_price</th>\n",
       "      <th>unit_cost</th>\n",
       "      <th>unit_weight</th>\n",
       "      <th>qty</th>\n",
       "      <th>line_number</th>\n",
       "    </tr>\n",
       "  </thead>\n",
       "  <tbody>\n",
       "    <tr>\n",
       "      <th>count</th>\n",
       "      <td>54639.000000</td>\n",
       "      <td>5.463900e+04</td>\n",
       "      <td>54639.000000</td>\n",
       "      <td>54639.000000</td>\n",
       "      <td>54639.000000</td>\n",
       "      <td>54639.000000</td>\n",
       "      <td>54639.000000</td>\n",
       "      <td>5.463900e+04</td>\n",
       "      <td>54639.000000</td>\n",
       "    </tr>\n",
       "    <tr>\n",
       "      <th>mean</th>\n",
       "      <td>54837.869416</td>\n",
       "      <td>5.470190e+06</td>\n",
       "      <td>11.359139</td>\n",
       "      <td>2022.993064</td>\n",
       "      <td>136.267207</td>\n",
       "      <td>99.446073</td>\n",
       "      <td>5.004116</td>\n",
       "      <td>5.702646e+02</td>\n",
       "      <td>2.979667</td>\n",
       "    </tr>\n",
       "    <tr>\n",
       "      <th>std</th>\n",
       "      <td>25487.438231</td>\n",
       "      <td>2.599807e+06</td>\n",
       "      <td>7.023499</td>\n",
       "      <td>0.082997</td>\n",
       "      <td>183.873135</td>\n",
       "      <td>133.164267</td>\n",
       "      <td>5.326599</td>\n",
       "      <td>1.879552e+04</td>\n",
       "      <td>2.436320</td>\n",
       "    </tr>\n",
       "    <tr>\n",
       "      <th>min</th>\n",
       "      <td>10033.000000</td>\n",
       "      <td>1.000886e+06</td>\n",
       "      <td>1.000000</td>\n",
       "      <td>2022.000000</td>\n",
       "      <td>0.010000</td>\n",
       "      <td>0.010000</td>\n",
       "      <td>0.000000</td>\n",
       "      <td>0.000000e+00</td>\n",
       "      <td>0.000000</td>\n",
       "    </tr>\n",
       "    <tr>\n",
       "      <th>25%</th>\n",
       "      <td>33593.000000</td>\n",
       "      <td>3.196372e+06</td>\n",
       "      <td>6.000000</td>\n",
       "      <td>2023.000000</td>\n",
       "      <td>20.800000</td>\n",
       "      <td>14.840000</td>\n",
       "      <td>1.450000</td>\n",
       "      <td>3.200000e+01</td>\n",
       "      <td>1.000000</td>\n",
       "    </tr>\n",
       "    <tr>\n",
       "      <th>50%</th>\n",
       "      <td>53305.000000</td>\n",
       "      <td>5.496966e+06</td>\n",
       "      <td>11.000000</td>\n",
       "      <td>2023.000000</td>\n",
       "      <td>68.310000</td>\n",
       "      <td>49.890000</td>\n",
       "      <td>3.240000</td>\n",
       "      <td>6.800000e+01</td>\n",
       "      <td>3.000000</td>\n",
       "    </tr>\n",
       "    <tr>\n",
       "      <th>75%</th>\n",
       "      <td>78498.000000</td>\n",
       "      <td>7.733869e+06</td>\n",
       "      <td>17.000000</td>\n",
       "      <td>2023.000000</td>\n",
       "      <td>173.160000</td>\n",
       "      <td>125.570000</td>\n",
       "      <td>6.890000</td>\n",
       "      <td>1.700000e+02</td>\n",
       "      <td>5.000000</td>\n",
       "    </tr>\n",
       "    <tr>\n",
       "      <th>max</th>\n",
       "      <td>99984.000000</td>\n",
       "      <td>9.998480e+06</td>\n",
       "      <td>52.000000</td>\n",
       "      <td>2023.000000</td>\n",
       "      <td>1396.230000</td>\n",
       "      <td>846.270000</td>\n",
       "      <td>46.430000</td>\n",
       "      <td>3.958244e+06</td>\n",
       "      <td>9.000000</td>\n",
       "    </tr>\n",
       "  </tbody>\n",
       "</table>\n",
       "</div>"
      ],
      "text/plain": [
       "          client_id      order_id    order_week    order_year    unit_price  \\\n",
       "count  54639.000000  5.463900e+04  54639.000000  54639.000000  54639.000000   \n",
       "mean   54837.869416  5.470190e+06     11.359139   2022.993064    136.267207   \n",
       "std    25487.438231  2.599807e+06      7.023499      0.082997    183.873135   \n",
       "min    10033.000000  1.000886e+06      1.000000   2022.000000      0.010000   \n",
       "25%    33593.000000  3.196372e+06      6.000000   2023.000000     20.800000   \n",
       "50%    53305.000000  5.496966e+06     11.000000   2023.000000     68.310000   \n",
       "75%    78498.000000  7.733869e+06     17.000000   2023.000000    173.160000   \n",
       "max    99984.000000  9.998480e+06     52.000000   2023.000000   1396.230000   \n",
       "\n",
       "          unit_cost   unit_weight           qty   line_number  \n",
       "count  54639.000000  54639.000000  5.463900e+04  54639.000000  \n",
       "mean      99.446073      5.004116  5.702646e+02      2.979667  \n",
       "std      133.164267      5.326599  1.879552e+04      2.436320  \n",
       "min        0.010000      0.000000  0.000000e+00      0.000000  \n",
       "25%       14.840000      1.450000  3.200000e+01      1.000000  \n",
       "50%       49.890000      3.240000  6.800000e+01      3.000000  \n",
       "75%      125.570000      6.890000  1.700000e+02      5.000000  \n",
       "max      846.270000     46.430000  3.958244e+06      9.000000  "
      ]
     },
     "execution_count": 512,
     "metadata": {},
     "output_type": "execute_result"
    }
   ],
   "source": [
    "# Use the describe function to gather some basic statistics\n",
    "df.describe()\n",
    "\n"
   ]
  },
  {
   "cell_type": "markdown",
   "id": "daca2d69",
   "metadata": {},
   "source": []
  },
  {
   "cell_type": "code",
   "execution_count": 513,
   "id": "b24b53cc",
   "metadata": {},
   "outputs": [
    {
     "name": "stdout",
     "output_type": "stream",
     "text": [
      "<class 'pandas.core.frame.DataFrame'>\n",
      "RangeIndex: 54639 entries, 0 to 54638\n",
      "Data columns (total 18 columns):\n",
      " #   Column       Non-Null Count  Dtype  \n",
      "---  ------       --------------  -----  \n",
      " 0   first        54639 non-null  object \n",
      " 1   last         54639 non-null  object \n",
      " 2   job          54639 non-null  object \n",
      " 3   phone        54639 non-null  object \n",
      " 4   email        54639 non-null  object \n",
      " 5   client_id    54639 non-null  int64  \n",
      " 6   order_id     54639 non-null  int64  \n",
      " 7   order_date   54639 non-null  object \n",
      " 8   order_week   54639 non-null  int64  \n",
      " 9   order_year   54639 non-null  int64  \n",
      " 10  item_id      54639 non-null  object \n",
      " 11  category     54639 non-null  object \n",
      " 12  subcategory  54639 non-null  object \n",
      " 13  unit_price   54639 non-null  float64\n",
      " 14  unit_cost    54639 non-null  float64\n",
      " 15  unit_weight  54639 non-null  float64\n",
      " 16  qty          54639 non-null  int64  \n",
      " 17  line_number  54639 non-null  int64  \n",
      "dtypes: float64(3), int64(6), object(9)\n",
      "memory usage: 7.5+ MB\n"
     ]
    }
   ],
   "source": [
    "# Use this space to do any additional research\n",
    "# and familiarize yourself with the data.\n",
    "\n",
    "df.value_counts\n",
    "df.info()\n",
    "\n"
   ]
  },
  {
   "cell_type": "code",
   "execution_count": 514,
   "id": "fa9450c0",
   "metadata": {},
   "outputs": [
    {
     "name": "stdout",
     "output_type": "stream",
     "text": [
      "Average unit_price, unit_cost, and qty per client_id:\n",
      "           unit_price   unit_cost          qty\n",
      "client_id                                     \n",
      "10033      192.186842  135.644737   165.947368\n",
      "10091       79.596429   51.322143  2122.214286\n",
      "10218      104.889643   80.323214  1162.821429\n",
      "10351      121.038800   87.309000   152.300000\n",
      "10435      110.529301   82.391538   258.510490\n",
      "...               ...         ...          ...\n",
      "99400      138.387101   98.532609   331.768116\n",
      "99450      100.481739   70.372174   386.521739\n",
      "99736      126.580000   88.659000  1269.740000\n",
      "99973      126.900000   92.408000   144.925000\n",
      "99984      139.719394  105.244545  1455.575758\n",
      "\n",
      "[999 rows x 3 columns]\n",
      "\n",
      "Average values for the top 5 clients:\n",
      "           unit_price   unit_cost           qty\n",
      "client_id                                      \n",
      "30143      156.838182  121.629091  25638.454545\n",
      "78965      131.079306   94.916821  23313.884393\n",
      "41656      157.324375  110.238125  15149.093750\n",
      "85931      138.720545  101.680000  11716.781818\n",
      "77354      144.196111  106.854074   9377.444444\n",
      "\n",
      "Overall average values for comparison:\n",
      "unit_price    136.267207\n",
      "unit_cost      99.446073\n",
      "qty           570.264610\n",
      "dtype: float64\n"
     ]
    }
   ],
   "source": [
    "\n",
    "# Calculate average unit_price, unit_cost, and qty per client_id\n",
    "average_per_client = df.groupby('client_id').agg({\n",
    "    'unit_price': 'mean',\n",
    "    'unit_cost': 'mean',\n",
    "    'qty': 'mean'\n",
    "})\n",
    "\n",
    "# Get the top 5 clients based on the mean qty (or any relevant metric)\n",
    "top_5_clients = average_per_client['qty'].nlargest(5).index\n",
    "\n",
    "# Get the average values for the top 5 clients\n",
    "average_top_5_clients = average_per_client.loc[top_5_clients]\n",
    "\n",
    "# Calculate overall average for comparison\n",
    "overall_average = df[['unit_price', 'unit_cost', 'qty']].mean()\n",
    "\n",
    "# Print the average values for all clients and the top 5 clients, and compare with the overall averages\n",
    "print(\"Average unit_price, unit_cost, and qty per client_id:\")\n",
    "print(average_per_client)\n",
    "\n",
    "print(\"\\nAverage values for the top 5 clients:\")\n",
    "print(average_top_5_clients)\n",
    "\n",
    "print(\"\\nOverall average values for comparison:\")\n",
    "print(overall_average)\n"
   ]
  },
  {
   "cell_type": "code",
   "execution_count": 515,
   "id": "551cb358",
   "metadata": {},
   "outputs": [
    {
     "name": "stdout",
     "output_type": "stream",
     "text": [
      "Top three item categories with the most entries:\n",
      "category\n",
      "consumables    23538\n",
      "furniture      11915\n",
      "software        8400\n",
      "Name: count, dtype: int64\n"
     ]
    }
   ],
   "source": [
    "# What three item categories had the most entries?\n",
    "top_categories = df['category'].value_counts().head(3)\n",
    "print(\"Top three item categories with the most entries:\")\n",
    "print(top_categories)\n"
   ]
  },
  {
   "cell_type": "code",
   "execution_count": 516,
   "id": "5f54e2cf",
   "metadata": {},
   "outputs": [
    {
     "name": "stdout",
     "output_type": "stream",
     "text": [
      "The subcategory with the most entries in the top category 'consumables' is 'bathroom supplies'\n",
      "Number of entries for the 'bathroom supplies' subcategory: 6424\n"
     ]
    }
   ],
   "source": [
    "# For the category with the most entries and show number of entries per subcategory\n",
    "# which subcategory had the most entries?\n",
    "most_entries_subcategory = subcategory_counts.idxmax()\n",
    "top_category_df = df[df['category'] == top_category]\n",
    "subcategory_counts = top_category_df['subcategory'].value_counts()\n",
    "ost_entries_subcategory = subcategory_counts.idxmax()\n",
    "count_most_entries_subcategory = subcategory_counts.max()\n",
    "print(f\"The subcategory with the most entries in the top category '{top_category}' is '{most_entries_subcategory}'\")\n",
    "print(f\"Number of entries for the '{most_entries_subcategory}' subcategory: {count_most_entries_subcategory}\")\n"
   ]
  },
  {
   "cell_type": "code",
   "execution_count": 531,
   "id": "2db94379",
   "metadata": {},
   "outputs": [
    {
     "name": "stdout",
     "output_type": "stream",
     "text": [
      "client_id\n",
      "33615    220\n",
      "66037    211\n",
      "46820    209\n",
      "38378    207\n",
      "24741    207\n",
      "Name: count, dtype: int64\n"
     ]
    }
   ],
   "source": [
    "# Which five clients had the most entries in the data?\n",
    "\n",
    "top_clients = df['client_id'].value_counts().head(5)\n",
    "\n",
    "print(top_clients)"
   ]
  },
  {
   "cell_type": "code",
   "execution_count": 518,
   "id": "a6635601",
   "metadata": {},
   "outputs": [
    {
     "name": "stdout",
     "output_type": "stream",
     "text": [
      "Client IDs of the top 5 clients:\n",
      "[33615, 66037, 46820, 38378, 24741]\n"
     ]
    }
   ],
   "source": [
    "# Store the client ids of those top 5 clients in a list.\n",
    "top_clients = df['client_id'].value_counts().head(5)\n",
    "top_5_client_ids = top_clients.index.tolist()\n",
    "\n",
    "print(\"Client IDs of the top 5 clients:\")\n",
    "print(top_5_client_ids)\n"
   ]
  },
  {
   "cell_type": "code",
   "execution_count": 519,
   "id": "c88b8a3e",
   "metadata": {},
   "outputs": [
    {
     "name": "stdout",
     "output_type": "stream",
     "text": [
      "The client with the most entries ordered a total of 64313 units.\n"
     ]
    }
   ],
   "source": [
    "# How many total units (the qty column) did the\n",
    "# client with the most entries order order?\n",
    "most_common_client = df['client_id'].value_counts().idxmax()\n",
    "filtered_df = df[df['client_id'] == most_common_client]\n",
    "total_units_ordered = filtered_df['qty'].sum()\n",
    "print(f\"The client with the most entries ordered a total of {total_units_ordered} units.\")"
   ]
  },
  {
   "cell_type": "markdown",
   "id": "257fcd7d",
   "metadata": {},
   "source": [
    "## Part 2: Transform the Data\n",
    "Do we know that this client spent the more money than client 66037? If not, how would we find out? Transform the data using the steps below to prepare it for analysis."
   ]
  },
  {
   "cell_type": "code",
   "execution_count": 520,
   "id": "0c25c4a8",
   "metadata": {},
   "outputs": [
    {
     "name": "stdout",
     "output_type": "stream",
     "text": [
      "   unit_price  qty   subtotal\n",
      "0     1096.80  105  115164.00\n",
      "1       24.95   21     523.95\n",
      "2       13.52   39     527.28\n",
      "3       36.42   29    1056.18\n",
      "4      195.10   20    3902.00\n"
     ]
    }
   ],
   "source": [
    "# Create a column that calculates the \n",
    "# subtotal for each line using the unit_price\n",
    "# and the qty\n",
    "df['subtotal'] = df['unit_price'] * df['qty']\n",
    "selected_columns = ['unit_price', 'qty', 'subtotal']\n",
    "subset_df = df[selected_columns]\n",
    "\n",
    "print(subset_df.head())"
   ]
  },
  {
   "cell_type": "code",
   "execution_count": 521,
   "id": "ac9dafc8",
   "metadata": {},
   "outputs": [
    {
     "name": "stdout",
     "output_type": "stream",
     "text": [
      "   unit_price  unit_weight  qty  total_weight  shipping_price\n",
      "0     1096.80         7.50  105        787.50         5512.50\n",
      "1       24.95         1.49   21         31.29          312.90\n",
      "2       13.52         1.68   39         65.52          458.64\n",
      "3       36.42         1.23   29         35.67          356.70\n",
      "4      195.10        46.43   20        928.60         6500.20\n"
     ]
    }
   ],
   "source": [
    "# Create a column for shipping price.\n",
    "# Assume a shipping price of $7 per pound\n",
    "# for orders over 50 pounds and $10 per\n",
    "# pound for items 50 pounds or under.\n",
    "df['total_weight'] = df['unit_weight'] * df['qty']\n",
    "df['shipping_price'] = df['total_weight'].apply(lambda x: 7 * x if x > 50 else 10 * x)\n",
    "selected_columns = ['unit_price', 'unit_weight', 'qty', 'total_weight', 'shipping_price']\n",
    "subset_df = df[selected_columns]\n",
    "\n",
    "print(subset_df.head())\n",
    "\n"
   ]
  },
  {
   "cell_type": "code",
   "execution_count": 522,
   "id": "77f42c67",
   "metadata": {},
   "outputs": [
    {
     "name": "stdout",
     "output_type": "stream",
     "text": [
      "    subtotal  shipping_price  total_price_with_tax\n",
      "0  115164.00         5512.50             131839.08\n",
      "1     523.95          312.90                914.26\n",
      "2     527.28          458.64               1077.12\n",
      "3    1056.18          356.70               1543.57\n",
      "4    3902.00         6500.20              11364.40\n"
     ]
    }
   ],
   "source": [
    "# Create a column for the total price\n",
    "# using the subtotal and the shipping price\n",
    "# along with a sales tax of 9.25%\n",
    "sales_tax_rate = 0.0925\n",
    "df['total_price'] = df['subtotal'] + df['shipping_price']\n",
    "df['total_price_with_tax'] = df['total_price'] * (1 + sales_tax_rate)\n",
    "df['total_price_with_tax'] = df['total_price_with_tax'].round(2)\n",
    "selected_columns = ['subtotal', 'shipping_price', 'total_price_with_tax']\n",
    "subset_df = df[selected_columns]\n",
    "\n",
    "print(subset_df.head())\n"
   ]
  },
  {
   "cell_type": "code",
   "execution_count": 523,
   "id": "c82ad275",
   "metadata": {},
   "outputs": [
    {
     "name": "stdout",
     "output_type": "stream",
     "text": [
      "     first     last              job               phone  \\\n",
      "0   Donald  Harding     Immunologist  793-904-7725x39308   \n",
      "1  Tiffany    Myers  Music therapist    201.442.4543x942   \n",
      "2  Shannon   Watson     Immunologist   687.737.9424x8503   \n",
      "\n",
      "                               email  client_id  order_id  order_date  \\\n",
      "0   harding.donald.7185@sullivan.com      58515   8953482  2023-04-28   \n",
      "1  myers.t.6537@ferguson-johnson.net      37609   8069089  2023-05-19   \n",
      "2              swatson8146@payne.net      57113   1902144  2023-01-29   \n",
      "\n",
      "   order_week  order_year  ... unit_price unit_cost unit_weight  qty  \\\n",
      "0          17        2023  ...    1096.80    762.71        7.50  105   \n",
      "1          20        2023  ...      24.95     15.09        1.49   21   \n",
      "2           4        2023  ...      13.52      7.86        1.68   39   \n",
      "\n",
      "   line_number   subtotal  total_weight  shipping_price  total_price_with_tax  \\\n",
      "0            1  115164.00        787.50         5512.50             131839.08   \n",
      "1            0     523.95         31.29          312.90                914.26   \n",
      "2            6     527.28         65.52          458.64               1077.12   \n",
      "\n",
      "   line_cost  \n",
      "0   85597.05  \n",
      "1     629.79  \n",
      "2     765.18  \n",
      "\n",
      "[3 rows x 23 columns]\n"
     ]
    }
   ],
   "source": [
    "# Create a column for the cost\n",
    "# of each line using unit cost, qty, and\n",
    "# shipping price (assume the shipping cost\n",
    "# is exactly what is charged to the client).\n",
    "df['line_cost'] = df['unit_cost'] * df['qty'] + df['shipping_price']\n",
    "if 'total_price' in df.columns:\n",
    "    df = df.drop(columns=['total_price'])\n",
    "\n",
    "print(df.head(3))\n"
   ]
  },
  {
   "cell_type": "code",
   "execution_count": 524,
   "id": "e2389018",
   "metadata": {},
   "outputs": [
    {
     "name": "stdout",
     "output_type": "stream",
     "text": [
      "     first     last              job               phone  \\\n",
      "0   Donald  Harding     Immunologist  793-904-7725x39308   \n",
      "1  Tiffany    Myers  Music therapist    201.442.4543x942   \n",
      "2  Shannon   Watson     Immunologist   687.737.9424x8503   \n",
      "\n",
      "                               email  client_id  order_id  order_date  \\\n",
      "0   harding.donald.7185@sullivan.com      58515   8953482  2023-04-28   \n",
      "1  myers.t.6537@ferguson-johnson.net      37609   8069089  2023-05-19   \n",
      "2              swatson8146@payne.net      57113   1902144  2023-01-29   \n",
      "\n",
      "   order_week  order_year  ... unit_cost unit_weight  qty  line_number  \\\n",
      "0          17        2023  ...    762.71        7.50  105            1   \n",
      "1          20        2023  ...     15.09        1.49   21            0   \n",
      "2           4        2023  ...      7.86        1.68   39            6   \n",
      "\n",
      "    subtotal  total_weight  shipping_price  total_price_with_tax  line_cost  \\\n",
      "0  115164.00        787.50         5512.50             131839.08   85597.05   \n",
      "1     523.95         31.29          312.90                914.26     629.79   \n",
      "2     527.28         65.52          458.64               1077.12     765.18   \n",
      "\n",
      "   line_profit  \n",
      "0     46242.03  \n",
      "1       284.47  \n",
      "2       311.94  \n",
      "\n",
      "[3 rows x 24 columns]\n"
     ]
    }
   ],
   "source": [
    "# Create a column for the profit of\n",
    "# each line using line cost and line price\n",
    "df['line_profit'] = df['total_price_with_tax'] - df['line_cost']\n",
    "print(df.head(3))\n"
   ]
  },
  {
   "cell_type": "markdown",
   "id": "ef6f62b1",
   "metadata": {},
   "source": [
    "## Part 3: Confirm your work\n",
    "You have email receipts showing that the total prices for 3 orders. Confirm that your calculations match the receipts. Remember, each order has multiple lines.\n",
    "\n",
    "Order ID 2742071 had a total price of \\$152,811.89\n",
    "\n",
    "Order ID 2173913 had a total price of \\$162,388.71\n",
    "\n",
    "Order ID 6128929 had a total price of \\$923,441.25\n"
   ]
  },
  {
   "cell_type": "code",
   "execution_count": 525,
   "id": "c0e5d68e",
   "metadata": {},
   "outputs": [
    {
     "name": "stdout",
     "output_type": "stream",
     "text": [
      "order 2742071 total: $152811.89\n",
      "order 2173913 total: $162388.71\n",
      "order 6128929 total: $923441.25\n"
     ]
    }
   ],
   "source": [
    "# Check your work using the totals above\n",
    "order_totals = df.groupby('order_id')['total_price_with_tax'].sum().reset_index()\n",
    "provided_order_ids = [2742071, 2173913, 6128929]\n",
    "for order_id in provided_order_ids:\n",
    "    total = order_totals.loc[order_totals['order_id'] == order_id, 'total_price_with_tax'].values\n",
    "    print(f\"order {order_id} total: ${total[0] if len(total) > 0 else 0:.2f}\")\n"
   ]
  },
  {
   "cell_type": "markdown",
   "id": "b94d58ab",
   "metadata": {},
   "source": [
    "## Part 4: Summarize and Analyze\n",
    "Use the new columns with confirmed values to find the following information."
   ]
  },
  {
   "cell_type": "code",
   "execution_count": 526,
   "id": "7c005f34",
   "metadata": {},
   "outputs": [
    {
     "name": "stdout",
     "output_type": "stream",
     "text": [
      "clinet_id 33615 spent: $8377308.52\n",
      "clinet_id 66037 spent: $10259514.79\n",
      "clinet_id 46820 spent: $9743794.36\n",
      "clinet_id 38378 spent: $12906550.87\n",
      "clinet_id 24741 spent: $82268892.02\n"
     ]
    }
   ],
   "source": [
    "# How much did each of the top 5 clients by quantity\n",
    "# spend? Check your work from Part 1 for client ids.\n",
    "client_totals = df.groupby('client_id')['total_price_with_tax'].sum()\n",
    "top_5_clients = df['client_id'].value_counts().head(5).index\n",
    "for client_id in top_5_clients:\n",
    "    total_spending = client_totals.get(client_id, 0)\n",
    "    print(f\"clinet_id {client_id} spent: ${total_spending:.2f}\")\n"
   ]
  },
  {
   "cell_type": "code",
   "execution_count": 527,
   "metadata": {},
   "outputs": [
    {
     "name": "stdout",
     "output_type": "stream",
     "text": [
      "Total spending of top 5 clients by quantity: $123.56M\n",
      "Total spending of top 20% of clients by spending: $4137.96M\n",
      "Total spending for all clients: $5642.67M\n",
      "Average spending of all clients: $5.65M\n"
     ]
    }
   ],
   "source": [
    "# Calculate total spending for the top 5 clients by quantity\n",
    "top_5_clients = df['client_id'].value_counts().head(5).index\n",
    "total_spending_top_5 = df[df['client_id'].isin(top_5_clients)]['total_price_with_tax'].sum() / 1_000_000  # Convert to millions\n",
    "\n",
    "# Calculate total spending for the top 20% of clients by spending\n",
    "total_spending_all = df.groupby('client_id')['total_price_with_tax'].sum()\n",
    "top_20_percent_clients = total_spending_all.nlargest(int(len(total_spending_all) * 0.2)).index\n",
    "total_spending_top_20_percent = df[df['client_id'].isin(top_20_percent_clients)]['total_price_with_tax'].sum() / 1_000_000  # Convert to millions\n",
    "\n",
    "# Calculate total spending for all clients\n",
    "total_spending_all = total_spending_all.sum() / 1_000_000  # Convert to millions\n",
    "\n",
    "# Calculate average spending for all clients\n",
    "average_spending_all = total_spending_all / df['client_id'].nunique()\n",
    "\n",
    "# Print the total spending of top 5 clients, total spending for top 20% of clients, total spending for all clients,\n",
    "# and average spending of all clients in millions\n",
    "print(f\"Total spending of top 5 clients by quantity: ${total_spending_top_5:.2f}M\")\n",
    "print(f\"Total spending of top 20% of clients by spending: ${total_spending_top_20_percent:.2f}M\")\n",
    "print(f\"Total spending for all clients: ${total_spending_all:.2f}M\")\n",
    "print(f\"Average spending of all clients: ${average_spending_all:.2f}M\")\n",
    "\n"
   ]
  },
  {
   "cell_type": "code",
   "execution_count": 528,
   "id": "81b6e4d2",
   "metadata": {},
   "outputs": [
    {
     "name": "stdout",
     "output_type": "stream",
     "text": [
      "              qty  shipping_price  total_price_with_tax    line_cost  \\\n",
      "client_id                                                              \n",
      "24741      239862      5126448.37           82268892.02  45688899.71   \n",
      "38378       73667      3429455.40           12906550.87   9634720.98   \n",
      "66037       43018      1395151.85           10259514.79   7004482.98   \n",
      "46820       75768      1601448.84            9743794.36   7007191.64   \n",
      "33615       64313      1828984.89            8377308.52   6175313.91   \n",
      "\n",
      "           line_profit  \n",
      "client_id               \n",
      "24741      36579992.31  \n",
      "38378       3271829.89  \n",
      "66037       3255031.81  \n",
      "46820       2736602.72  \n",
      "33615       2201994.61  \n"
     ]
    }
   ],
   "source": [
    "# Create a summary DataFrame showing the totals for the\n",
    "# for the top 5 clients with the following information:\n",
    "# total units purchased, total shipping price,\n",
    "# total revenue, and total profit. Sort by total profit.\n",
    "\n",
    "specific_clients = df[df['client_id'].isin(top_5_clients)]\n",
    "client_summary = specific_clients.groupby('client_id').agg({\n",
    "    'qty': 'sum',                     \n",
    "    'shipping_price': 'sum',           \n",
    "    'total_price_with_tax': 'sum',\n",
    "    'line_cost': 'sum',      \n",
    "    'line_profit': 'sum'  \n",
    "}).sort_values('line_profit', ascending=False)\n",
    "\n",
    "print(client_summary)\n"
   ]
  },
  {
   "cell_type": "code",
   "execution_count": 529,
   "id": "e7de76da",
   "metadata": {},
   "outputs": [
    {
     "name": "stdout",
     "output_type": "stream",
     "text": [
      "Formatted Summary DataFrame for the top 5 clients in millions of dollars:\n",
      "           Total Units (M) Shipping (M) Total Revenue (M) Total Cost (M)  \\\n",
      "client_id                                                                  \n",
      "24741               239862       $5.13M           $82.27M        $45.69M   \n",
      "33615                64313       $1.83M            $8.38M         $6.18M   \n",
      "38378                73667       $3.43M           $12.91M         $9.63M   \n",
      "46820                75768       $1.60M            $9.74M         $7.01M   \n",
      "66037                43018       $1.40M           $10.26M         $7.00M   \n",
      "\n",
      "          Total Profit (M)  \n",
      "client_id                   \n",
      "24741              $36.58M  \n",
      "33615               $2.20M  \n",
      "38378               $3.27M  \n",
      "46820               $2.74M  \n",
      "66037               $3.26M  \n"
     ]
    }
   ],
   "source": [
    "# Grouping and aggregating data\n",
    "specific_clients = df[df['client_id'].isin(top_5_clients)]\n",
    "client_summary = specific_clients.groupby('client_id').agg({\n",
    "    'qty': 'sum',\n",
    "    'shipping_price': 'sum',\n",
    "    'total_price_with_tax': 'sum',\n",
    "    'line_cost': 'sum',\n",
    "    'line_profit': 'sum'\n",
    "}) \n",
    "\n",
    "# Convert monetary columns to millions with \"$\" symbol and format to 2 decimal places\n",
    "monetary_cols = ['shipping_price', 'total_price_with_tax', 'line_profit', 'line_cost']\n",
    "client_summary[monetary_cols] /= 1_000_000\n",
    "client_summary[monetary_cols] = client_summary[monetary_cols].applymap('${:.2f}M'.format)\n",
    "\n",
    "# Rename columns for presentation\n",
    "client_summary.columns = [\n",
    "    'Total Units (M)',\n",
    "    'Shipping (M)',\n",
    "    'Total Revenue (M)',\n",
    "    'Total Cost (M)',\n",
    "    'Total Profit (M)'\n",
    "]\n",
    "\n",
    "# Reorder columns\n",
    "client_summary = client_summary[['Total Units (M)', 'Shipping (M)', 'Total Revenue (M)', 'Total Cost (M)', 'Total Profit (M)']]\n",
    "\n",
    "print(\"Formatted Summary DataFrame for the top 5 clients in millions of dollars:\")\n",
    "print(client_summary)\n"
   ]
  },
  {
   "cell_type": "code",
   "execution_count": 530,
   "id": "8ead0986",
   "metadata": {},
   "outputs": [
    {
     "name": "stdout",
     "output_type": "stream",
     "text": [
      "Formatted Summary DataFrame for the top 5 clients sorted by Total Profit:\n",
      "           Total Units (M) Shipping (M) Total Revenue (M) Total Cost (M)  \\\n",
      "client_id                                                                  \n",
      "24741               239862       $5.13M           $82.27M        $45.69M   \n",
      "38378                73667       $3.43M           $12.91M         $9.63M   \n",
      "66037                43018       $1.40M           $10.26M         $7.00M   \n",
      "46820                75768       $1.60M            $9.74M         $7.01M   \n",
      "33615                64313       $1.83M            $8.38M         $6.18M   \n",
      "\n",
      "          Total Profit (M)  \n",
      "client_id                   \n",
      "24741              $36.58M  \n",
      "38378               $3.27M  \n",
      "66037               $3.26M  \n",
      "46820               $2.74M  \n",
      "33615               $2.20M  \n"
     ]
    }
   ],
   "source": [
    "# Sort the updated data by \"Total Profit\" form highest to lowest\n",
    "client_summary = client_summary.sort_values('Total Profit (M)', ascending=False)\n",
    "\n",
    "print(\"Formatted Summary DataFrame for the top 5 clients sorted by Total Profit:\")\n",
    "print(client_summary)"
   ]
  },
  {
   "cell_type": "markdown",
   "id": "42b39c76",
   "metadata": {},
   "source": [
    "# Summary\n",
    "The combined spending of the top 5 clients amounts to $123.56 million, constituting approximately 2% of the total expenditure of $5,642.67 million across all clients. Notably, their spending significantly surpasses the average client expenditure of $5.6 million. Delving deeper, the top 20% of clients collectively contributed $4,137.96 million, representing a substantial 73% of the total expenditure.\n",
    "\n",
    "It is evident that directing attention towards not only the top 5 but also the top 20% of clients is imperative for the company, considering they generate the majority (73%) of the business. Focusing efforts on these client segments would prove beneficial for the company's growth and revenue.\n",
    "\n"
   ]
  }
 ],
 "metadata": {
  "kernelspec": {
   "display_name": "Python 3 (ipykernel)",
   "language": "python",
   "name": "python3"
  },
  "language_info": {
   "codemirror_mode": {
    "name": "ipython",
    "version": 3
   },
   "file_extension": ".py",
   "mimetype": "text/x-python",
   "name": "python",
   "nbconvert_exporter": "python",
   "pygments_lexer": "ipython3",
   "version": "3.10.12"
  }
 },
 "nbformat": 4,
 "nbformat_minor": 5
}
