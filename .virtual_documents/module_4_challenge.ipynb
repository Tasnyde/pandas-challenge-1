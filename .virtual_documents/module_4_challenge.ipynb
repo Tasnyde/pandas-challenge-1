


import pandas as pd

df = pd.read_csv('Resources/client_dataset.csv')

df.head()


# View the column names in the data
column_names = df.columns
print(column_names)



# Use the describe function to gather some basic statistics
df.describe()







# Use this space to do any additional research
# and familiarize yourself with the data.

df.value_counts
df.info()





# Calculate average unit_price, unit_cost, and qty per client_id
average_per_client = df.groupby('client_id').agg({
    'unit_price': 'mean',
    'unit_cost': 'mean',
    'qty': 'mean'
})

# Get the top 5 clients based on the mean qty (or any relevant metric)
top_5_clients = average_per_client['qty'].nlargest(5).index

# Get the average values for the top 5 clients
average_top_5_clients = average_per_client.loc[top_5_clients]

# Calculate overall average for comparison
overall_average = df[['unit_price', 'unit_cost', 'qty']].mean()

# Print the average values for all clients and the top 5 clients, and compare with the overall averages
print("Average unit_price, unit_cost, and qty per client_id:")
print(average_per_client)

print("\nAverage values for the top 5 clients:")
print(average_top_5_clients)

print("\nOverall average values for comparison:")
print(overall_average)



# What three item categories had the most entries?
top_categories = df['category'].value_counts().head(3)
print("Top three item categories with the most entries:")
print(top_categories)



# For the category with the most entries and show number of entries per subcategory
# which subcategory had the most entries?
most_entries_subcategory = subcategory_counts.idxmax()
top_category_df = df[df['category'] == top_category]
subcategory_counts = top_category_df['subcategory'].value_counts()
ost_entries_subcategory = subcategory_counts.idxmax()
count_most_entries_subcategory = subcategory_counts.max()
print(f"The subcategory with the most entries in the top category '{top_category}' is '{most_entries_subcategory}'")
print(f"Number of entries for the '{most_entries_subcategory}' subcategory: {count_most_entries_subcategory}")



# Which five clients had the most entries in the data?

top_clients = df['client_id'].value_counts().head(5)

print(top_clients)


# Store the client ids of those top 5 clients in a list.
top_clients = df['client_id'].value_counts().head(5)
top_5_client_ids = top_clients.index.tolist()

print("Client IDs of the top 5 clients:")
print(top_5_client_ids)



# How many total units (the qty column) did the
# client with the most entries order order?
most_common_client = df['client_id'].value_counts().idxmax()
filtered_df = df[df['client_id'] == most_common_client]
total_units_ordered = filtered_df['qty'].sum()
print(f"The client with the most entries ordered a total of {total_units_ordered} units.")





# Create a column that calculates the 
# subtotal for each line using the unit_price
# and the qty
df['subtotal'] = df['unit_price'] * df['qty']
selected_columns = ['unit_price', 'qty', 'subtotal']
subset_df = df[selected_columns]

print(subset_df.head())


# Create a column for shipping price.
# Assume a shipping price of $7 per pound
# for orders over 50 pounds and $10 per
# pound for items 50 pounds or under.
df['total_weight'] = df['unit_weight'] * df['qty']
df['shipping_price'] = df['total_weight'].apply(lambda x: 7 * x if x > 50 else 10 * x)
selected_columns = ['unit_price', 'unit_weight', 'qty', 'total_weight', 'shipping_price']
subset_df = df[selected_columns]

print(subset_df.head())




# Create a column for the total price
# using the subtotal and the shipping price
# along with a sales tax of 9.25%
sales_tax_rate = 0.0925
df['total_price'] = df['subtotal'] + df['shipping_price']
df['total_price_with_tax'] = df['total_price'] * (1 + sales_tax_rate)
df['total_price_with_tax'] = df['total_price_with_tax'].round(2)
selected_columns = ['subtotal', 'shipping_price', 'total_price_with_tax']
subset_df = df[selected_columns]

print(subset_df.head())



# Create a column for the cost
# of each line using unit cost, qty, and
# shipping price (assume the shipping cost
# is exactly what is charged to the client).
df['line_cost'] = df['unit_cost'] * df['qty'] + df['shipping_price']
if 'total_price' in df.columns:
    df = df.drop(columns=['total_price'])

print(df.head(3))



# Create a column for the profit of
# each line using line cost and line price
df['line_profit'] = df['total_price_with_tax'] - df['line_cost']
print(df.head(3))






# Check your work using the totals above
order_totals = df.groupby('order_id')['total_price_with_tax'].sum().reset_index()
provided_order_ids = [2742071, 2173913, 6128929]
for order_id in provided_order_ids:
    total = order_totals.loc[order_totals['order_id'] == order_id, 'total_price_with_tax'].values
    print(f"order {order_id} total: ${total[0] if len(total) > 0 else 0:.2f}")






# How much did each of the top 5 clients by quantity
# spend? Check your work from Part 1 for client ids.
client_totals = df.groupby('client_id')['total_price_with_tax'].sum()
top_5_clients = df['client_id'].value_counts().head(5).index
for client_id in top_5_clients:
    total_spending = client_totals.get(client_id, 0)
    print(f"clinet_id {client_id} spent: ${total_spending:.2f}")



# Calculate total spending for the top 5 clients by quantity
top_5_clients = df['client_id'].value_counts().head(5).index
total_spending_top_5 = df[df['client_id'].isin(top_5_clients)]['total_price_with_tax'].sum() / 1_000_000  # Convert to millions

# Calculate total spending for the top 20% of clients by spending
total_spending_all = df.groupby('client_id')['total_price_with_tax'].sum()
top_20_percent_clients = total_spending_all.nlargest(int(len(total_spending_all) * 0.2)).index
total_spending_top_20_percent = df[df['client_id'].isin(top_20_percent_clients)]['total_price_with_tax'].sum() / 1_000_000  # Convert to millions

# Calculate total spending for all clients
total_spending_all = total_spending_all.sum() / 1_000_000  # Convert to millions

# Calculate average spending for all clients
average_spending_all = total_spending_all / df['client_id'].nunique()

# Print the total spending of top 5 clients, total spending for top 20% of clients, total spending for all clients,
# and average spending of all clients in millions
print(f"Total spending of top 5 clients by quantity: ${total_spending_top_5:.2f}M")
print(f"Total spending of top 20% of clients by spending: ${total_spending_top_20_percent:.2f}M")
print(f"Total spending for all clients: ${total_spending_all:.2f}M")
print(f"Average spending of all clients: ${average_spending_all:.2f}M")




# Create a summary DataFrame showing the totals for the
# for the top 5 clients with the following information:
# total units purchased, total shipping price,
# total revenue, and total profit. Sort by total profit.

specific_clients = df[df['client_id'].isin(top_5_clients)]
client_summary = specific_clients.groupby('client_id').agg({
    'qty': 'sum',                     
    'shipping_price': 'sum',           
    'total_price_with_tax': 'sum',
    'line_cost': 'sum',      
    'line_profit': 'sum'  
}).sort_values('line_profit', ascending=False)

print(client_summary)



# Grouping and aggregating data
specific_clients = df[df['client_id'].isin(top_5_clients)]
client_summary = specific_clients.groupby('client_id').agg({
    'qty': 'sum',
    'shipping_price': 'sum',
    'total_price_with_tax': 'sum',
    'line_cost': 'sum',
    'line_profit': 'sum'
}) 

# Convert monetary columns to millions with "$" symbol and format to 2 decimal places
monetary_cols = ['shipping_price', 'total_price_with_tax', 'line_profit', 'line_cost']
client_summary[monetary_cols] /= 1_000_000
client_summary[monetary_cols] = client_summary[monetary_cols].applymap('${:.2f}M'.format)

# Rename columns for presentation
client_summary.columns = [
    'Total Units (M)',
    'Shipping (M)',
    'Total Revenue (M)',
    'Total Cost (M)',
    'Total Profit (M)'
]

# Reorder columns
client_summary = client_summary[['Total Units (M)', 'Shipping (M)', 'Total Revenue (M)', 'Total Cost (M)', 'Total Profit (M)']]

print("Formatted Summary DataFrame for the top 5 clients in millions of dollars:")
print(client_summary)



# Sort the updated data by "Total Profit" form highest to lowest
client_summary = client_summary.sort_values('Total Profit (M)', ascending=False)

print("Formatted Summary DataFrame for the top 5 clients sorted by Total Profit:")
print(client_summary)



