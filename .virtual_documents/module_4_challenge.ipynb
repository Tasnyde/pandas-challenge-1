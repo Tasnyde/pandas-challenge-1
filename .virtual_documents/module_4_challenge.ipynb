


import pandas as pd

df = pd.read_csv('Resources/client_dataset.csv')

df.head()


# View the column names in the data




# Use the describe function to gather some basic statistics




# Use this space to do any additional research
# and familiarize yourself with the data.




# For the category with the most entries,
# which subcategory had the most entries?




# Which five clients had the most entries in the data?




# Store the client ids of those top 5 clients in a list.




# How many total units (the qty column) did the
# client with the most entries order order?







# Create a column that calculates the 
# subtotal for each line using the unit_price
# and the qty




# Create a column for shipping price.
# Assume a shipping price of $7 per pound
# for orders over 50 pounds and $10 per
# pound for items 50 pounds or under.




# Create a column for the total price
# using the subtotal and the shipping price
# along with a sales tax of 9.25%




# Create a column for the cost
# of each line using unit cost, qty, and
# shipping price (assume the shipping cost
# is exactly what is charged to the client).




# Create a column for the profit of
# each line using line cost and line price







# Check your work using the totals above






# How much did each of the top 5 clients by quantity
# spend? Check your work from Part 1 for client ids.




# Create a summary DataFrame showing the totals for the
# for the top 5 clients with the following information:
# total units purchased, total shipping price,
# total revenue, and total profit. Sort by total profit.




# Format the data and rename the columns
# to names suitable for presentation.
# Currency should be in millions of dollars.




# Sort the updated data by "Total Profit" form highest to lowest




